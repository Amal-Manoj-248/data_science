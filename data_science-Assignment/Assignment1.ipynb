{
  "nbformat": 4,
  "nbformat_minor": 0,
  "metadata": {
    "colab": {
      "provenance": []
    },
    "kernelspec": {
      "name": "python3",
      "display_name": "Python 3"
    },
    "language_info": {
      "name": "python"
    }
  },
  "cells": [
    {
      "cell_type": "code",
      "source": [
        "import pandas as pd\n",
        "df=pd.read_csv('/content/nba.csv')\n",
        "print(df)"
      ],
      "metadata": {
        "colab": {
          "base_uri": "https://localhost:8080/"
        },
        "collapsed": true,
        "id": "KiEmZy6Zo1d2",
        "outputId": "adfbe3fa-488f-4614-916f-1b83cfaf2da6"
      },
      "execution_count": 1,
      "outputs": [
        {
          "output_type": "stream",
          "name": "stdout",
          "text": [
            "              Name            Team  Number Position   Age Height  Weight  \\\n",
            "0    Avery Bradley  Boston Celtics     0.0       PG  25.0    6-2   180.0   \n",
            "1      Jae Crowder  Boston Celtics    99.0       SF  25.0    6-6   235.0   \n",
            "2     John Holland  Boston Celtics    30.0       SG  27.0    6-5   205.0   \n",
            "3      R.J. Hunter  Boston Celtics    28.0       SG  22.0    6-5   185.0   \n",
            "4    Jonas Jerebko  Boston Celtics     8.0       PF  29.0   6-10   231.0   \n",
            "..             ...             ...     ...      ...   ...    ...     ...   \n",
            "453   Shelvin Mack       Utah Jazz     8.0       PG  26.0    6-3   203.0   \n",
            "454      Raul Neto       Utah Jazz    25.0       PG  24.0    6-1   179.0   \n",
            "455   Tibor Pleiss       Utah Jazz    21.0        C  26.0    7-3   256.0   \n",
            "456    Jeff Withey       Utah Jazz    24.0        C  26.0    7-0   231.0   \n",
            "457            NaN             NaN     NaN      NaN   NaN    NaN     NaN   \n",
            "\n",
            "               College     Salary  \n",
            "0                Texas  7730337.0  \n",
            "1            Marquette  6796117.0  \n",
            "2    Boston University        NaN  \n",
            "3        Georgia State  1148640.0  \n",
            "4                  NaN  5000000.0  \n",
            "..                 ...        ...  \n",
            "453             Butler  2433333.0  \n",
            "454                NaN   900000.0  \n",
            "455                NaN  2900000.0  \n",
            "456             Kansas   947276.0  \n",
            "457                NaN        NaN  \n",
            "\n",
            "[458 rows x 9 columns]\n"
          ]
        }
      ]
    },
    {
      "cell_type": "markdown",
      "source": [
        "# 1. Selection and Slicing:"
      ],
      "metadata": {
        "id": "EZsTm8cwtmJv"
      }
    },
    {
      "cell_type": "markdown",
      "source": [
        "**Basic selection: Select the first rows of the dataset.**"
      ],
      "metadata": {
        "id": "SxTjpySPp-Ly"
      }
    },
    {
      "cell_type": "code",
      "source": [
        "print(df.head(10))"
      ],
      "metadata": {
        "colab": {
          "base_uri": "https://localhost:8080/"
        },
        "collapsed": true,
        "id": "GhSBKV1wpiOw",
        "outputId": "aa0f91fb-0fb9-4c79-d0c1-d410d2dabedc"
      },
      "execution_count": 2,
      "outputs": [
        {
          "output_type": "stream",
          "name": "stdout",
          "text": [
            "            Name            Team  Number Position   Age Height  Weight  \\\n",
            "0  Avery Bradley  Boston Celtics     0.0       PG  25.0    6-2   180.0   \n",
            "1    Jae Crowder  Boston Celtics    99.0       SF  25.0    6-6   235.0   \n",
            "2   John Holland  Boston Celtics    30.0       SG  27.0    6-5   205.0   \n",
            "3    R.J. Hunter  Boston Celtics    28.0       SG  22.0    6-5   185.0   \n",
            "4  Jonas Jerebko  Boston Celtics     8.0       PF  29.0   6-10   231.0   \n",
            "5   Amir Johnson  Boston Celtics    90.0       PF  29.0    6-9   240.0   \n",
            "6  Jordan Mickey  Boston Celtics    55.0       PF  21.0    6-8   235.0   \n",
            "7   Kelly Olynyk  Boston Celtics    41.0        C  25.0    7-0   238.0   \n",
            "8   Terry Rozier  Boston Celtics    12.0       PG  22.0    6-2   190.0   \n",
            "9   Marcus Smart  Boston Celtics    36.0       PG  22.0    6-4   220.0   \n",
            "\n",
            "             College      Salary  \n",
            "0              Texas   7730337.0  \n",
            "1          Marquette   6796117.0  \n",
            "2  Boston University         NaN  \n",
            "3      Georgia State   1148640.0  \n",
            "4                NaN   5000000.0  \n",
            "5                NaN  12000000.0  \n",
            "6                LSU   1170960.0  \n",
            "7            Gonzaga   2165160.0  \n",
            "8         Louisville   1824360.0  \n",
            "9     Oklahoma State   3431040.0  \n"
          ]
        }
      ]
    },
    {
      "cell_type": "markdown",
      "source": [
        "**Selection by columns: Select the Name and Team columns for the first 20 players.**"
      ],
      "metadata": {
        "id": "9mSgqX9Pqd_U"
      }
    },
    {
      "cell_type": "code",
      "source": [
        "print(df[['Name','Team']].head(20))"
      ],
      "metadata": {
        "colab": {
          "base_uri": "https://localhost:8080/"
        },
        "collapsed": true,
        "id": "toKdbwAVqcXT",
        "outputId": "51c48d2a-036c-4f0c-a86f-6563b3e147dc"
      },
      "execution_count": 3,
      "outputs": [
        {
          "output_type": "stream",
          "name": "stdout",
          "text": [
            "                       Name            Team\n",
            "0             Avery Bradley  Boston Celtics\n",
            "1               Jae Crowder  Boston Celtics\n",
            "2              John Holland  Boston Celtics\n",
            "3               R.J. Hunter  Boston Celtics\n",
            "4             Jonas Jerebko  Boston Celtics\n",
            "5              Amir Johnson  Boston Celtics\n",
            "6             Jordan Mickey  Boston Celtics\n",
            "7              Kelly Olynyk  Boston Celtics\n",
            "8              Terry Rozier  Boston Celtics\n",
            "9              Marcus Smart  Boston Celtics\n",
            "10          Jared Sullinger  Boston Celtics\n",
            "11            Isaiah Thomas  Boston Celtics\n",
            "12              Evan Turner  Boston Celtics\n",
            "13              James Young  Boston Celtics\n",
            "14             Tyler Zeller  Boston Celtics\n",
            "15         Bojan Bogdanovic   Brooklyn Nets\n",
            "16             Markel Brown   Brooklyn Nets\n",
            "17          Wayne Ellington   Brooklyn Nets\n",
            "18  Rondae Hollis-Jefferson   Brooklyn Nets\n",
            "19             Jarrett Jack   Brooklyn Nets\n"
          ]
        }
      ]
    },
    {
      "cell_type": "markdown",
      "source": [
        "**Using loc: Use the loc method to select all players from the Boston Celtics**"
      ],
      "metadata": {
        "id": "v7_93yvSr-J8"
      }
    },
    {
      "cell_type": "code",
      "source": [
        "print(df.loc[df['Team'] == 'Boston Celtics'])"
      ],
      "metadata": {
        "colab": {
          "base_uri": "https://localhost:8080/"
        },
        "collapsed": true,
        "id": "o3E0YrKSsDCm",
        "outputId": "ee22fa8c-9270-420b-a5f3-367ab4a23ae6"
      },
      "execution_count": 4,
      "outputs": [
        {
          "output_type": "stream",
          "name": "stdout",
          "text": [
            "               Name            Team  Number Position   Age Height  Weight  \\\n",
            "0     Avery Bradley  Boston Celtics     0.0       PG  25.0    6-2   180.0   \n",
            "1       Jae Crowder  Boston Celtics    99.0       SF  25.0    6-6   235.0   \n",
            "2      John Holland  Boston Celtics    30.0       SG  27.0    6-5   205.0   \n",
            "3       R.J. Hunter  Boston Celtics    28.0       SG  22.0    6-5   185.0   \n",
            "4     Jonas Jerebko  Boston Celtics     8.0       PF  29.0   6-10   231.0   \n",
            "5      Amir Johnson  Boston Celtics    90.0       PF  29.0    6-9   240.0   \n",
            "6     Jordan Mickey  Boston Celtics    55.0       PF  21.0    6-8   235.0   \n",
            "7      Kelly Olynyk  Boston Celtics    41.0        C  25.0    7-0   238.0   \n",
            "8      Terry Rozier  Boston Celtics    12.0       PG  22.0    6-2   190.0   \n",
            "9      Marcus Smart  Boston Celtics    36.0       PG  22.0    6-4   220.0   \n",
            "10  Jared Sullinger  Boston Celtics     7.0        C  24.0    6-9   260.0   \n",
            "11    Isaiah Thomas  Boston Celtics     4.0       PG  27.0    5-9   185.0   \n",
            "12      Evan Turner  Boston Celtics    11.0       SG  27.0    6-7   220.0   \n",
            "13      James Young  Boston Celtics    13.0       SG  20.0    6-6   215.0   \n",
            "14     Tyler Zeller  Boston Celtics    44.0        C  26.0    7-0   253.0   \n",
            "\n",
            "              College      Salary  \n",
            "0               Texas   7730337.0  \n",
            "1           Marquette   6796117.0  \n",
            "2   Boston University         NaN  \n",
            "3       Georgia State   1148640.0  \n",
            "4                 NaN   5000000.0  \n",
            "5                 NaN  12000000.0  \n",
            "6                 LSU   1170960.0  \n",
            "7             Gonzaga   2165160.0  \n",
            "8          Louisville   1824360.0  \n",
            "9      Oklahoma State   3431040.0  \n",
            "10         Ohio State   2569260.0  \n",
            "11         Washington   6912869.0  \n",
            "12         Ohio State   3425510.0  \n",
            "13           Kentucky   1749840.0  \n",
            "14     North Carolina   2616975.0  \n"
          ]
        }
      ]
    },
    {
      "cell_type": "markdown",
      "source": [
        "**Using iloc: Use the iloc method to select the rows for players who have indices between 10 and 20.**"
      ],
      "metadata": {
        "id": "C1nmOJ2ls1FI"
      }
    },
    {
      "cell_type": "code",
      "source": [
        "print(df.iloc[10:21])"
      ],
      "metadata": {
        "colab": {
          "base_uri": "https://localhost:8080/"
        },
        "collapsed": true,
        "id": "Vz43-RVCs5o2",
        "outputId": "92bee814-c174-428a-c314-db66dc2e3e33"
      },
      "execution_count": 5,
      "outputs": [
        {
          "output_type": "stream",
          "name": "stdout",
          "text": [
            "                       Name            Team  Number Position   Age Height  \\\n",
            "10          Jared Sullinger  Boston Celtics     7.0        C  24.0    6-9   \n",
            "11            Isaiah Thomas  Boston Celtics     4.0       PG  27.0    5-9   \n",
            "12              Evan Turner  Boston Celtics    11.0       SG  27.0    6-7   \n",
            "13              James Young  Boston Celtics    13.0       SG  20.0    6-6   \n",
            "14             Tyler Zeller  Boston Celtics    44.0        C  26.0    7-0   \n",
            "15         Bojan Bogdanovic   Brooklyn Nets    44.0       SG  27.0    6-8   \n",
            "16             Markel Brown   Brooklyn Nets    22.0       SG  24.0    6-3   \n",
            "17          Wayne Ellington   Brooklyn Nets    21.0       SG  28.0    6-4   \n",
            "18  Rondae Hollis-Jefferson   Brooklyn Nets    24.0       SG  21.0    6-7   \n",
            "19             Jarrett Jack   Brooklyn Nets     2.0       PG  32.0    6-3   \n",
            "20           Sergey Karasev   Brooklyn Nets    10.0       SG  22.0    6-7   \n",
            "\n",
            "    Weight         College     Salary  \n",
            "10   260.0      Ohio State  2569260.0  \n",
            "11   185.0      Washington  6912869.0  \n",
            "12   220.0      Ohio State  3425510.0  \n",
            "13   215.0        Kentucky  1749840.0  \n",
            "14   253.0  North Carolina  2616975.0  \n",
            "15   216.0             NaN  3425510.0  \n",
            "16   190.0  Oklahoma State   845059.0  \n",
            "17   200.0  North Carolina  1500000.0  \n",
            "18   220.0         Arizona  1335480.0  \n",
            "19   200.0    Georgia Tech  6300000.0  \n",
            "20   208.0             NaN  1599840.0  \n"
          ]
        }
      ]
    },
    {
      "cell_type": "markdown",
      "source": [
        "# 2. Adding/Deleting Rows and Columns:\n",
        "\n"
      ],
      "metadata": {
        "id": "xFjPV8XctcSR"
      }
    },
    {
      "cell_type": "markdown",
      "source": [
        "**Add a column: Add a new column named Experience, calculated as 2024 - Age**"
      ],
      "metadata": {
        "id": "MUiBvfrktVf4"
      }
    },
    {
      "cell_type": "code",
      "source": [
        "df['Experience'] = 2024 - df['Age']\n",
        "print(df)"
      ],
      "metadata": {
        "colab": {
          "base_uri": "https://localhost:8080/"
        },
        "collapsed": true,
        "id": "-PgXuz1yt61Z",
        "outputId": "7534d3c2-c429-4882-d920-69d685aec386"
      },
      "execution_count": 6,
      "outputs": [
        {
          "output_type": "stream",
          "name": "stdout",
          "text": [
            "              Name            Team  Number Position   Age Height  Weight  \\\n",
            "0    Avery Bradley  Boston Celtics     0.0       PG  25.0    6-2   180.0   \n",
            "1      Jae Crowder  Boston Celtics    99.0       SF  25.0    6-6   235.0   \n",
            "2     John Holland  Boston Celtics    30.0       SG  27.0    6-5   205.0   \n",
            "3      R.J. Hunter  Boston Celtics    28.0       SG  22.0    6-5   185.0   \n",
            "4    Jonas Jerebko  Boston Celtics     8.0       PF  29.0   6-10   231.0   \n",
            "..             ...             ...     ...      ...   ...    ...     ...   \n",
            "453   Shelvin Mack       Utah Jazz     8.0       PG  26.0    6-3   203.0   \n",
            "454      Raul Neto       Utah Jazz    25.0       PG  24.0    6-1   179.0   \n",
            "455   Tibor Pleiss       Utah Jazz    21.0        C  26.0    7-3   256.0   \n",
            "456    Jeff Withey       Utah Jazz    24.0        C  26.0    7-0   231.0   \n",
            "457            NaN             NaN     NaN      NaN   NaN    NaN     NaN   \n",
            "\n",
            "               College     Salary  Experience  \n",
            "0                Texas  7730337.0      1999.0  \n",
            "1            Marquette  6796117.0      1999.0  \n",
            "2    Boston University        NaN      1997.0  \n",
            "3        Georgia State  1148640.0      2002.0  \n",
            "4                  NaN  5000000.0      1995.0  \n",
            "..                 ...        ...         ...  \n",
            "453             Butler  2433333.0      1998.0  \n",
            "454                NaN   900000.0      2000.0  \n",
            "455                NaN  2900000.0      1998.0  \n",
            "456             Kansas   947276.0      1998.0  \n",
            "457                NaN        NaN         NaN  \n",
            "\n",
            "[458 rows x 10 columns]\n"
          ]
        }
      ]
    },
    {
      "cell_type": "markdown",
      "source": [
        "**\tDelete a column: Delete the College column from the dataset.**\n",
        "\n"
      ],
      "metadata": {
        "id": "RHqcfbIkvZ40"
      }
    },
    {
      "cell_type": "code",
      "source": [
        "df.drop(columns=['College'], inplace=True)\n",
        "print(df)"
      ],
      "metadata": {
        "colab": {
          "base_uri": "https://localhost:8080/"
        },
        "collapsed": true,
        "id": "0IgusLvCveT2",
        "outputId": "faf5939f-c424-4333-f70a-325c590a4ebb"
      },
      "execution_count": 7,
      "outputs": [
        {
          "output_type": "stream",
          "name": "stdout",
          "text": [
            "              Name            Team  Number Position   Age Height  Weight  \\\n",
            "0    Avery Bradley  Boston Celtics     0.0       PG  25.0    6-2   180.0   \n",
            "1      Jae Crowder  Boston Celtics    99.0       SF  25.0    6-6   235.0   \n",
            "2     John Holland  Boston Celtics    30.0       SG  27.0    6-5   205.0   \n",
            "3      R.J. Hunter  Boston Celtics    28.0       SG  22.0    6-5   185.0   \n",
            "4    Jonas Jerebko  Boston Celtics     8.0       PF  29.0   6-10   231.0   \n",
            "..             ...             ...     ...      ...   ...    ...     ...   \n",
            "453   Shelvin Mack       Utah Jazz     8.0       PG  26.0    6-3   203.0   \n",
            "454      Raul Neto       Utah Jazz    25.0       PG  24.0    6-1   179.0   \n",
            "455   Tibor Pleiss       Utah Jazz    21.0        C  26.0    7-3   256.0   \n",
            "456    Jeff Withey       Utah Jazz    24.0        C  26.0    7-0   231.0   \n",
            "457            NaN             NaN     NaN      NaN   NaN    NaN     NaN   \n",
            "\n",
            "        Salary  Experience  \n",
            "0    7730337.0      1999.0  \n",
            "1    6796117.0      1999.0  \n",
            "2          NaN      1997.0  \n",
            "3    1148640.0      2002.0  \n",
            "4    5000000.0      1995.0  \n",
            "..         ...         ...  \n",
            "453  2433333.0      1998.0  \n",
            "454   900000.0      2000.0  \n",
            "455  2900000.0      1998.0  \n",
            "456   947276.0      1998.0  \n",
            "457        NaN         NaN  \n",
            "\n",
            "[458 rows x 9 columns]\n"
          ]
        }
      ]
    },
    {
      "cell_type": "markdown",
      "source": [
        "**Add a row: Add a new player to the dataset with custom values for each column.**\n"
      ],
      "metadata": {
        "id": "2V-wECVFvnp3"
      }
    },
    {
      "cell_type": "code",
      "source": [
        "new_player = pd.DataFrame([{\n",
        "    'Name': 'John Doe',\n",
        "    'Team': 'Los Angeles Lakers',\n",
        "    'Position': 'Guard',\n",
        "    'Age': 25,\n",
        "    'Height': \"6'3\\\"\",\n",
        "    'Weight': 190,\n",
        "    'Experience': 2024 - 25\n",
        "}])\n",
        "df = pd.concat([df, new_player], ignore_index=True)\n",
        "print(df.tail())"
      ],
      "metadata": {
        "colab": {
          "base_uri": "https://localhost:8080/"
        },
        "collapsed": true,
        "id": "J0wC6Twbvrm4",
        "outputId": "69d6ec80-c3fa-44ed-e544-d84746a98997"
      },
      "execution_count": 8,
      "outputs": [
        {
          "output_type": "stream",
          "name": "stdout",
          "text": [
            "             Name                Team  Number Position   Age Height  Weight  \\\n",
            "454     Raul Neto           Utah Jazz    25.0       PG  24.0    6-1   179.0   \n",
            "455  Tibor Pleiss           Utah Jazz    21.0        C  26.0    7-3   256.0   \n",
            "456   Jeff Withey           Utah Jazz    24.0        C  26.0    7-0   231.0   \n",
            "457           NaN                 NaN     NaN      NaN   NaN    NaN     NaN   \n",
            "458      John Doe  Los Angeles Lakers     NaN    Guard  25.0   6'3\"   190.0   \n",
            "\n",
            "        Salary  Experience  \n",
            "454   900000.0      2000.0  \n",
            "455  2900000.0      1998.0  \n",
            "456   947276.0      1998.0  \n",
            "457        NaN         NaN  \n",
            "458        NaN      1999.0  \n"
          ]
        }
      ]
    },
    {
      "cell_type": "markdown",
      "source": [
        "**Delete a row: Delete the row corresponding to the player \"Avery Bradley\".**"
      ],
      "metadata": {
        "id": "spiBEw3mvsfk"
      }
    },
    {
      "cell_type": "code",
      "source": [
        "df = df[df['Name'] != 'Avery Bradley']\n",
        "print(df)"
      ],
      "metadata": {
        "colab": {
          "base_uri": "https://localhost:8080/"
        },
        "collapsed": true,
        "id": "w_A7X6t1vuw2",
        "outputId": "7fdfeb97-9c9f-423b-8be8-d00fd2938bfb"
      },
      "execution_count": 9,
      "outputs": [
        {
          "output_type": "stream",
          "name": "stdout",
          "text": [
            "              Name                Team  Number Position   Age Height  Weight  \\\n",
            "1      Jae Crowder      Boston Celtics    99.0       SF  25.0    6-6   235.0   \n",
            "2     John Holland      Boston Celtics    30.0       SG  27.0    6-5   205.0   \n",
            "3      R.J. Hunter      Boston Celtics    28.0       SG  22.0    6-5   185.0   \n",
            "4    Jonas Jerebko      Boston Celtics     8.0       PF  29.0   6-10   231.0   \n",
            "5     Amir Johnson      Boston Celtics    90.0       PF  29.0    6-9   240.0   \n",
            "..             ...                 ...     ...      ...   ...    ...     ...   \n",
            "454      Raul Neto           Utah Jazz    25.0       PG  24.0    6-1   179.0   \n",
            "455   Tibor Pleiss           Utah Jazz    21.0        C  26.0    7-3   256.0   \n",
            "456    Jeff Withey           Utah Jazz    24.0        C  26.0    7-0   231.0   \n",
            "457            NaN                 NaN     NaN      NaN   NaN    NaN     NaN   \n",
            "458       John Doe  Los Angeles Lakers     NaN    Guard  25.0   6'3\"   190.0   \n",
            "\n",
            "         Salary  Experience  \n",
            "1     6796117.0      1999.0  \n",
            "2           NaN      1997.0  \n",
            "3     1148640.0      2002.0  \n",
            "4     5000000.0      1995.0  \n",
            "5    12000000.0      1995.0  \n",
            "..          ...         ...  \n",
            "454    900000.0      2000.0  \n",
            "455   2900000.0      1998.0  \n",
            "456    947276.0      1998.0  \n",
            "457         NaN         NaN  \n",
            "458         NaN      1999.0  \n",
            "\n",
            "[458 rows x 9 columns]\n"
          ]
        }
      ]
    },
    {
      "cell_type": "markdown",
      "source": [
        "# 3. Boolean Indexing and Masking:"
      ],
      "metadata": {
        "id": "gqKzNPXFxWs4"
      }
    },
    {
      "cell_type": "markdown",
      "source": [
        "**Salary filter: Use boolean indexing to filter out players whose salary is more than $5,000,000.**"
      ],
      "metadata": {
        "id": "ZfbQ-rJPxZ4Q"
      }
    },
    {
      "cell_type": "code",
      "source": [
        "print(df[df['Salary'] > 5000000])"
      ],
      "metadata": {
        "colab": {
          "base_uri": "https://localhost:8080/"
        },
        "collapsed": true,
        "id": "lJmjjNR5xV8g",
        "outputId": "10bff41b-d3a7-4368-dedd-78fe9cc1caea"
      },
      "execution_count": 10,
      "outputs": [
        {
          "output_type": "stream",
          "name": "stdout",
          "text": [
            "                 Name                    Team  Number Position   Age Height  \\\n",
            "1         Jae Crowder          Boston Celtics    99.0       SF  25.0    6-6   \n",
            "5        Amir Johnson          Boston Celtics    90.0       PF  29.0    6-9   \n",
            "11      Isaiah Thomas          Boston Celtics     4.0       PG  27.0    5-9   \n",
            "19       Jarrett Jack           Brooklyn Nets     2.0       PG  32.0    6-3   \n",
            "23        Brook Lopez           Brooklyn Nets    11.0        C  28.0    7-0   \n",
            "..                ...                     ...     ...      ...   ...    ...   \n",
            "433  Gerald Henderson  Portland Trail Blazers     9.0       SG  28.0    6-5   \n",
            "434       Chris Kaman  Portland Trail Blazers    35.0        C  34.0    7-0   \n",
            "444        Alec Burks               Utah Jazz    10.0       SG  24.0    6-6   \n",
            "446    Derrick Favors               Utah Jazz    15.0       PF  24.0   6-10   \n",
            "448    Gordon Hayward               Utah Jazz    20.0       SF  26.0    6-8   \n",
            "\n",
            "     Weight      Salary  Experience  \n",
            "1     235.0   6796117.0      1999.0  \n",
            "5     240.0  12000000.0      1995.0  \n",
            "11    185.0   6912869.0      1997.0  \n",
            "19    200.0   6300000.0      1992.0  \n",
            "23    275.0  19689000.0      1996.0  \n",
            "..      ...         ...         ...  \n",
            "433   215.0   6000000.0      1996.0  \n",
            "434   265.0   5016000.0      1990.0  \n",
            "444   214.0   9463484.0      2000.0  \n",
            "446   265.0  12000000.0      2000.0  \n",
            "448   226.0  15409570.0      1998.0  \n",
            "\n",
            "[143 rows x 9 columns]\n"
          ]
        }
      ]
    },
    {
      "cell_type": "markdown",
      "source": [
        "**Height filter: Use boolean indexing to find all players who are taller than 6 feet 6 inches.**"
      ],
      "metadata": {
        "id": "UDBKqvKIxd1k"
      }
    },
    {
      "cell_type": "code",
      "source": [
        "def height_in_float(height):\n",
        "    # Handle missing or invalid height formats\n",
        "    if isinstance(height, str) and '-' in height:  # Check if the height is a string with a hyphen\n",
        "        feet, inches = map(int, height.split('-'))\n",
        "        return feet + inches / 12\n",
        "    # Attempt to convert height to float if it is not already a float\n",
        "    elif isinstance(height, str):\n",
        "        try:\n",
        "            return float(height)  # Converts height to float if possible\n",
        "        except ValueError:\n",
        "            return float('nan')  # Returns NaN for invalid float conversions\n",
        "    else:\n",
        "        return height  # Return the original value if it cannot be converted\n",
        "\n",
        "df['Height_inches'] = df['Height'].apply(height_in_float)\n",
        "tall_players = df[df['Height_inches'] > 6.5]  # Removed the unnecessary 'print' inside the assignment\n",
        "print(tall_players)"
      ],
      "metadata": {
        "colab": {
          "base_uri": "https://localhost:8080/"
        },
        "collapsed": true,
        "id": "2trKYapFxiQz",
        "outputId": "8a9d62a4-0d15-4c9a-a3ef-7c9123859292"
      },
      "execution_count": 13,
      "outputs": [
        {
          "output_type": "stream",
          "name": "stdout",
          "text": [
            "                Name            Team  Number Position   Age Height  Weight  \\\n",
            "4      Jonas Jerebko  Boston Celtics     8.0       PF  29.0   6-10   231.0   \n",
            "5       Amir Johnson  Boston Celtics    90.0       PF  29.0    6-9   240.0   \n",
            "6      Jordan Mickey  Boston Celtics    55.0       PF  21.0    6-8   235.0   \n",
            "7       Kelly Olynyk  Boston Celtics    41.0        C  25.0    7-0   238.0   \n",
            "10   Jared Sullinger  Boston Celtics     7.0        C  24.0    6-9   260.0   \n",
            "..               ...             ...     ...      ...   ...    ...     ...   \n",
            "449      Rodney Hood       Utah Jazz     5.0       SG  23.0    6-8   206.0   \n",
            "450       Joe Ingles       Utah Jazz     2.0       SF  28.0    6-8   226.0   \n",
            "452       Trey Lyles       Utah Jazz    41.0       PF  20.0   6-10   234.0   \n",
            "455     Tibor Pleiss       Utah Jazz    21.0        C  26.0    7-3   256.0   \n",
            "456      Jeff Withey       Utah Jazz    24.0        C  26.0    7-0   231.0   \n",
            "\n",
            "         Salary  Experience  Height_inches  \n",
            "4     5000000.0      1995.0       6.833333  \n",
            "5    12000000.0      1995.0       6.750000  \n",
            "6     1170960.0      2003.0       6.666667  \n",
            "7     2165160.0      1999.0       7.000000  \n",
            "10    2569260.0      2000.0       6.750000  \n",
            "..          ...         ...            ...  \n",
            "449   1348440.0      2001.0       6.666667  \n",
            "450   2050000.0      1996.0       6.666667  \n",
            "452   2239800.0      2004.0       6.833333  \n",
            "455   2900000.0      1998.0       7.250000  \n",
            "456    947276.0      1998.0       7.000000  \n",
            "\n",
            "[275 rows x 10 columns]\n"
          ]
        }
      ]
    },
    {
      "cell_type": "markdown",
      "source": [
        "**Null values filter: Use boolean indexing to identify players with missing salary or college information.**"
      ],
      "metadata": {
        "id": "biDliMDfxinr"
      }
    },
    {
      "cell_type": "code",
      "source": [
        "if 'College' in df.columns:\n",
        "    info = df[df['Salary'].isnull() | df['College'].isnull()]\n",
        "else:\n",
        "    info= df[df['Salary'].isnull()]\n",
        "print(info)\n"
      ],
      "metadata": {
        "colab": {
          "base_uri": "https://localhost:8080/"
        },
        "collapsed": true,
        "id": "uxj8X34nxnEO",
        "outputId": "f3e7040d-cb36-45e8-ace2-e481ab02cecf"
      },
      "execution_count": 14,
      "outputs": [
        {
          "output_type": "stream",
          "name": "stdout",
          "text": [
            "               Name                    Team  Number Position   Age Height  \\\n",
            "2      John Holland          Boston Celtics    30.0       SG  27.0    6-5   \n",
            "46      Elton Brand      Philadelphia 76ers    42.0       PF  37.0    6-9   \n",
            "171   Dahntay Jones     Cleveland Cavaliers    30.0       SG  35.0    6-6   \n",
            "264   Jordan Farmar       Memphis Grizzlies     4.0       PG  29.0    6-2   \n",
            "269    Ray McCallum       Memphis Grizzlies     5.0       PG  24.0    6-3   \n",
            "270  Xavier Munford       Memphis Grizzlies    14.0       PG  24.0    6-3   \n",
            "273  Alex Stepheson       Memphis Grizzlies    35.0       PF  28.0   6-10   \n",
            "350   Briante Weber              Miami Heat    12.0       PG  23.0    6-2   \n",
            "353   Dorell Wright              Miami Heat    11.0       SF  30.0    6-9   \n",
            "397    Axel Toupane          Denver Nuggets     6.0       SG  23.0    6-7   \n",
            "409      Greg Smith  Minnesota Timberwolves     4.0       PF  25.0   6-10   \n",
            "457             NaN                     NaN     NaN      NaN   NaN    NaN   \n",
            "458        John Doe      Los Angeles Lakers     NaN    Guard  25.0   6'3\"   \n",
            "\n",
            "     Weight  Salary  Experience  Height_inches  \n",
            "2     205.0     NaN      1997.0       6.416667  \n",
            "46    254.0     NaN      1987.0       6.750000  \n",
            "171   225.0     NaN      1989.0       6.500000  \n",
            "264   180.0     NaN      1995.0       6.166667  \n",
            "269   190.0     NaN      2000.0       6.250000  \n",
            "270   180.0     NaN      2000.0       6.250000  \n",
            "273   270.0     NaN      1996.0       6.833333  \n",
            "350   165.0     NaN      2001.0       6.166667  \n",
            "353   205.0     NaN      1994.0       6.750000  \n",
            "397   210.0     NaN      2001.0       6.583333  \n",
            "409   250.0     NaN      1999.0       6.833333  \n",
            "457     NaN     NaN         NaN            NaN  \n",
            "458   190.0     NaN      1999.0            NaN  \n"
          ]
        }
      ]
    },
    {
      "cell_type": "markdown",
      "source": [
        "# 4. Creating Series and DataFrames:"
      ],
      "metadata": {
        "id": "Ny7jbx2JG9OJ"
      }
    },
    {
      "cell_type": "markdown",
      "source": [
        "**Convert to Series: Convert the Name column to a Pandas Series.**"
      ],
      "metadata": {
        "id": "J-VgcQ2SHBlZ"
      }
    },
    {
      "cell_type": "code",
      "source": [
        "myvar=pd.Series(df['Name'])\n",
        "print(myvar)"
      ],
      "metadata": {
        "colab": {
          "base_uri": "https://localhost:8080/"
        },
        "collapsed": true,
        "id": "G8ZMnyNyHGcU",
        "outputId": "e74561ee-71cb-4bcf-955f-df420818b502"
      },
      "execution_count": 15,
      "outputs": [
        {
          "output_type": "stream",
          "name": "stdout",
          "text": [
            "1        Jae Crowder\n",
            "2       John Holland\n",
            "3        R.J. Hunter\n",
            "4      Jonas Jerebko\n",
            "5       Amir Johnson\n",
            "           ...      \n",
            "454        Raul Neto\n",
            "455     Tibor Pleiss\n",
            "456      Jeff Withey\n",
            "457              NaN\n",
            "458         John Doe\n",
            "Name: Name, Length: 458, dtype: object\n"
          ]
        }
      ]
    },
    {
      "cell_type": "markdown",
      "source": [
        "**Sub DataFrame: Create a new DataFrame containing only players who play the PG or SG position.**"
      ],
      "metadata": {
        "id": "Ev205HF5HG2f"
      }
    },
    {
      "cell_type": "code",
      "source": [
        "print(df[df['Position'].isin(['PG', 'SG'])])"
      ],
      "metadata": {
        "colab": {
          "base_uri": "https://localhost:8080/"
        },
        "collapsed": true,
        "id": "aX1hH59xHLuh",
        "outputId": "e51e1241-f7ff-4bb2-8bc8-42d327baee4a"
      },
      "execution_count": 16,
      "outputs": [
        {
          "output_type": "stream",
          "name": "stdout",
          "text": [
            "              Name            Team  Number Position   Age Height  Weight  \\\n",
            "2     John Holland  Boston Celtics    30.0       SG  27.0    6-5   205.0   \n",
            "3      R.J. Hunter  Boston Celtics    28.0       SG  22.0    6-5   185.0   \n",
            "8     Terry Rozier  Boston Celtics    12.0       PG  22.0    6-2   190.0   \n",
            "9     Marcus Smart  Boston Celtics    36.0       PG  22.0    6-4   220.0   \n",
            "11   Isaiah Thomas  Boston Celtics     4.0       PG  27.0    5-9   185.0   \n",
            "..             ...             ...     ...      ...   ...    ...     ...   \n",
            "444     Alec Burks       Utah Jazz    10.0       SG  24.0    6-6   214.0   \n",
            "445     Dante Exum       Utah Jazz    11.0       PG  20.0    6-6   190.0   \n",
            "449    Rodney Hood       Utah Jazz     5.0       SG  23.0    6-8   206.0   \n",
            "453   Shelvin Mack       Utah Jazz     8.0       PG  26.0    6-3   203.0   \n",
            "454      Raul Neto       Utah Jazz    25.0       PG  24.0    6-1   179.0   \n",
            "\n",
            "        Salary  Experience  Height_inches  \n",
            "2          NaN      1997.0       6.416667  \n",
            "3    1148640.0      2002.0       6.416667  \n",
            "8    1824360.0      2002.0       6.166667  \n",
            "9    3431040.0      2002.0       6.333333  \n",
            "11   6912869.0      1997.0       5.750000  \n",
            "..         ...         ...            ...  \n",
            "444  9463484.0      2000.0       6.500000  \n",
            "445  3777720.0      2004.0       6.500000  \n",
            "449  1348440.0      2001.0       6.666667  \n",
            "453  2433333.0      1998.0       6.250000  \n",
            "454   900000.0      2000.0       6.083333  \n",
            "\n",
            "[193 rows x 10 columns]\n"
          ]
        }
      ]
    },
    {
      "cell_type": "markdown",
      "source": [
        "# 5. Locating Specific Columns and Rows:"
      ],
      "metadata": {
        "id": "j7cFkjnrJcHS"
      }
    },
    {
      "cell_type": "markdown",
      "source": [
        "**Find specific player: Find the row corresponding to the player named \"Jonas Jerebko\".**"
      ],
      "metadata": {
        "id": "VWD1oLBiJf2O"
      }
    },
    {
      "cell_type": "code",
      "source": [
        "print(df[df['Name'] == 'Jonas Jerebko'])"
      ],
      "metadata": {
        "colab": {
          "base_uri": "https://localhost:8080/"
        },
        "collapsed": true,
        "id": "gEkiOo2vJjuR",
        "outputId": "634bde2e-829a-4807-b0cc-dcdd98c3b837"
      },
      "execution_count": 17,
      "outputs": [
        {
          "output_type": "stream",
          "name": "stdout",
          "text": [
            "            Name            Team  Number Position   Age Height  Weight  \\\n",
            "4  Jonas Jerebko  Boston Celtics     8.0       PF  29.0   6-10   231.0   \n",
            "\n",
            "      Salary  Experience  Height_inches  \n",
            "4  5000000.0      1995.0       6.833333  \n"
          ]
        }
      ]
    },
    {
      "cell_type": "markdown",
      "source": [
        "**Player and salary information: Use loc to display the Name and Salary of players who are older than 25 years.**"
      ],
      "metadata": {
        "id": "mDLdn5L6JkCl"
      }
    },
    {
      "cell_type": "code",
      "source": [
        "print(df.loc[df['Age'] > 25, ['Name', 'Salary']])"
      ],
      "metadata": {
        "colab": {
          "base_uri": "https://localhost:8080/"
        },
        "collapsed": true,
        "id": "5qUpLXoRJns1",
        "outputId": "f24769d3-c7f3-4fc6-ddfd-5ca482e2a861"
      },
      "execution_count": 18,
      "outputs": [
        {
          "output_type": "stream",
          "name": "stdout",
          "text": [
            "              Name      Salary\n",
            "2     John Holland         NaN\n",
            "4    Jonas Jerebko   5000000.0\n",
            "5     Amir Johnson  12000000.0\n",
            "11   Isaiah Thomas   6912869.0\n",
            "12     Evan Turner   3425510.0\n",
            "..             ...         ...\n",
            "450     Joe Ingles   2050000.0\n",
            "451  Chris Johnson    981348.0\n",
            "453   Shelvin Mack   2433333.0\n",
            "455   Tibor Pleiss   2900000.0\n",
            "456    Jeff Withey    947276.0\n",
            "\n",
            "[258 rows x 2 columns]\n"
          ]
        }
      ]
    },
    {
      "cell_type": "markdown",
      "source": [
        "**Height and weight data: Use iloc to display only the Height and Weight of the first 50 players.**"
      ],
      "metadata": {
        "id": "52STu-oxJoCZ"
      }
    },
    {
      "cell_type": "code",
      "source": [
        "data = df.iloc[:50, df.columns.get_loc('Height'):df.columns.get_loc('Weight') + 1]\n",
        "print(data)"
      ],
      "metadata": {
        "colab": {
          "base_uri": "https://localhost:8080/"
        },
        "collapsed": true,
        "id": "Vne5qVJiJr4R",
        "outputId": "53599058-eee8-4a33-a9b6-879de2235169"
      },
      "execution_count": 19,
      "outputs": [
        {
          "output_type": "stream",
          "name": "stdout",
          "text": [
            "   Height  Weight\n",
            "1     6-6   235.0\n",
            "2     6-5   205.0\n",
            "3     6-5   185.0\n",
            "4    6-10   231.0\n",
            "5     6-9   240.0\n",
            "6     6-8   235.0\n",
            "7     7-0   238.0\n",
            "8     6-2   190.0\n",
            "9     6-4   220.0\n",
            "10    6-9   260.0\n",
            "11    5-9   185.0\n",
            "12    6-7   220.0\n",
            "13    6-6   215.0\n",
            "14    7-0   253.0\n",
            "15    6-8   216.0\n",
            "16    6-3   190.0\n",
            "17    6-4   200.0\n",
            "18    6-7   220.0\n",
            "19    6-3   200.0\n",
            "20    6-7   208.0\n",
            "21    6-4   219.0\n",
            "22   5-11   175.0\n",
            "23    7-0   275.0\n",
            "24   6-11   200.0\n",
            "25   6-10   220.0\n",
            "26   6-10   237.0\n",
            "27   6-10   248.0\n",
            "28    6-3   205.0\n",
            "29    6-8   221.0\n",
            "30    6-5   210.0\n",
            "31    6-9   220.0\n",
            "32    6-7   205.0\n",
            "33    6-8   240.0\n",
            "34    6-3   200.0\n",
            "35    6-8   210.0\n",
            "36    6-2   200.0\n",
            "37    6-4   195.0\n",
            "38    7-0   255.0\n",
            "39   6-10   250.0\n",
            "40    7-3   240.0\n",
            "41   6-10   278.0\n",
            "42    6-8   235.0\n",
            "43    6-7   195.0\n",
            "44    6-8   240.0\n",
            "45    6-6   205.0\n",
            "46    6-9   254.0\n",
            "47    6-0   201.0\n",
            "48    6-9   215.0\n",
            "49    7-0   250.0\n",
            "50    6-8   210.0\n"
          ]
        }
      ]
    },
    {
      "cell_type": "markdown",
      "source": [
        "# 6. Data Cleaning:"
      ],
      "metadata": {
        "id": "GXQAP48_KYys"
      }
    },
    {
      "cell_type": "markdown",
      "source": [
        "**Missing data: Identify all rows where the Salary column has missing values.**"
      ],
      "metadata": {
        "id": "VX0kEVq9KbgR"
      }
    },
    {
      "cell_type": "code",
      "source": [
        "print(df[df['Salary'].isnull()])"
      ],
      "metadata": {
        "colab": {
          "base_uri": "https://localhost:8080/"
        },
        "collapsed": true,
        "id": "sEBpVMEVKfNd",
        "outputId": "cd457f6a-e2a5-4a3e-eb6b-394afdbcbb9f"
      },
      "execution_count": 20,
      "outputs": [
        {
          "output_type": "stream",
          "name": "stdout",
          "text": [
            "               Name                    Team  Number Position   Age Height  \\\n",
            "2      John Holland          Boston Celtics    30.0       SG  27.0    6-5   \n",
            "46      Elton Brand      Philadelphia 76ers    42.0       PF  37.0    6-9   \n",
            "171   Dahntay Jones     Cleveland Cavaliers    30.0       SG  35.0    6-6   \n",
            "264   Jordan Farmar       Memphis Grizzlies     4.0       PG  29.0    6-2   \n",
            "269    Ray McCallum       Memphis Grizzlies     5.0       PG  24.0    6-3   \n",
            "270  Xavier Munford       Memphis Grizzlies    14.0       PG  24.0    6-3   \n",
            "273  Alex Stepheson       Memphis Grizzlies    35.0       PF  28.0   6-10   \n",
            "350   Briante Weber              Miami Heat    12.0       PG  23.0    6-2   \n",
            "353   Dorell Wright              Miami Heat    11.0       SF  30.0    6-9   \n",
            "397    Axel Toupane          Denver Nuggets     6.0       SG  23.0    6-7   \n",
            "409      Greg Smith  Minnesota Timberwolves     4.0       PF  25.0   6-10   \n",
            "457             NaN                     NaN     NaN      NaN   NaN    NaN   \n",
            "458        John Doe      Los Angeles Lakers     NaN    Guard  25.0   6'3\"   \n",
            "\n",
            "     Weight  Salary  Experience  Height_inches  \n",
            "2     205.0     NaN      1997.0       6.416667  \n",
            "46    254.0     NaN      1987.0       6.750000  \n",
            "171   225.0     NaN      1989.0       6.500000  \n",
            "264   180.0     NaN      1995.0       6.166667  \n",
            "269   190.0     NaN      2000.0       6.250000  \n",
            "270   180.0     NaN      2000.0       6.250000  \n",
            "273   270.0     NaN      1996.0       6.833333  \n",
            "350   165.0     NaN      2001.0       6.166667  \n",
            "353   205.0     NaN      1994.0       6.750000  \n",
            "397   210.0     NaN      2001.0       6.583333  \n",
            "409   250.0     NaN      1999.0       6.833333  \n",
            "457     NaN     NaN         NaN            NaN  \n",
            "458   190.0     NaN      1999.0            NaN  \n"
          ]
        }
      ]
    },
    {
      "cell_type": "markdown",
      "source": [
        "**Replace missing data: Replace missing values in the Salary column with the mean salary of all players.**"
      ],
      "metadata": {
        "id": "-d3pXlBqKfhB"
      }
    },
    {
      "cell_type": "code",
      "source": [
        "x = df['Salary'].mean()\n",
        "df['Salary'].fillna(x, inplace=True)\n",
        "print(df['Salary'])"
      ],
      "metadata": {
        "colab": {
          "base_uri": "https://localhost:8080/"
        },
        "collapsed": true,
        "id": "Vhl7vfWAKjh6",
        "outputId": "0367c02b-23ca-41cf-9cdf-ab15f24449d5"
      },
      "execution_count": 21,
      "outputs": [
        {
          "output_type": "stream",
          "name": "stdout",
          "text": [
            "1      6.796117e+06\n",
            "2      4.836195e+06\n",
            "3      1.148640e+06\n",
            "4      5.000000e+06\n",
            "5      1.200000e+07\n",
            "           ...     \n",
            "454    9.000000e+05\n",
            "455    2.900000e+06\n",
            "456    9.472760e+05\n",
            "457    4.836195e+06\n",
            "458    4.836195e+06\n",
            "Name: Salary, Length: 458, dtype: float64\n"
          ]
        },
        {
          "output_type": "stream",
          "name": "stderr",
          "text": [
            "<ipython-input-21-8148ec1adaa8>:2: FutureWarning: A value is trying to be set on a copy of a DataFrame or Series through chained assignment using an inplace method.\n",
            "The behavior will change in pandas 3.0. This inplace method will never work because the intermediate object on which we are setting values always behaves as a copy.\n",
            "\n",
            "For example, when doing 'df[col].method(value, inplace=True)', try using 'df.method({col: value}, inplace=True)' or df[col] = df[col].method(value) instead, to perform the operation inplace on the original object.\n",
            "\n",
            "\n",
            "  df['Salary'].fillna(x, inplace=True)\n"
          ]
        }
      ]
    },
    {
      "cell_type": "markdown",
      "source": [
        "**Drop missing data: Drop all rows where any column has missing data.**"
      ],
      "metadata": {
        "id": "IczKMsj2Kj8P"
      }
    },
    {
      "cell_type": "code",
      "source": [
        "print(df.dropna())"
      ],
      "metadata": {
        "colab": {
          "base_uri": "https://localhost:8080/"
        },
        "collapsed": true,
        "id": "DA0Kkn07Kn6k",
        "outputId": "ababeca7-f5af-428a-f889-47ca3f75861d"
      },
      "execution_count": 22,
      "outputs": [
        {
          "output_type": "stream",
          "name": "stdout",
          "text": [
            "              Name            Team  Number Position   Age Height  Weight  \\\n",
            "1      Jae Crowder  Boston Celtics    99.0       SF  25.0    6-6   235.0   \n",
            "2     John Holland  Boston Celtics    30.0       SG  27.0    6-5   205.0   \n",
            "3      R.J. Hunter  Boston Celtics    28.0       SG  22.0    6-5   185.0   \n",
            "4    Jonas Jerebko  Boston Celtics     8.0       PF  29.0   6-10   231.0   \n",
            "5     Amir Johnson  Boston Celtics    90.0       PF  29.0    6-9   240.0   \n",
            "..             ...             ...     ...      ...   ...    ...     ...   \n",
            "452     Trey Lyles       Utah Jazz    41.0       PF  20.0   6-10   234.0   \n",
            "453   Shelvin Mack       Utah Jazz     8.0       PG  26.0    6-3   203.0   \n",
            "454      Raul Neto       Utah Jazz    25.0       PG  24.0    6-1   179.0   \n",
            "455   Tibor Pleiss       Utah Jazz    21.0        C  26.0    7-3   256.0   \n",
            "456    Jeff Withey       Utah Jazz    24.0        C  26.0    7-0   231.0   \n",
            "\n",
            "           Salary  Experience  Height_inches  \n",
            "1    6.796117e+06      1999.0       6.500000  \n",
            "2    4.836195e+06      1997.0       6.416667  \n",
            "3    1.148640e+06      2002.0       6.416667  \n",
            "4    5.000000e+06      1995.0       6.833333  \n",
            "5    1.200000e+07      1995.0       6.750000  \n",
            "..            ...         ...            ...  \n",
            "452  2.239800e+06      2004.0       6.833333  \n",
            "453  2.433333e+06      1998.0       6.250000  \n",
            "454  9.000000e+05      2000.0       6.083333  \n",
            "455  2.900000e+06      1998.0       7.250000  \n",
            "456  9.472760e+05      1998.0       7.000000  \n",
            "\n",
            "[456 rows x 10 columns]\n"
          ]
        }
      ]
    },
    {
      "cell_type": "markdown",
      "source": [
        "**Inconsistent data: convert the Height column to float format.**"
      ],
      "metadata": {
        "id": "gH-iNadSKqF9"
      }
    },
    {
      "cell_type": "code",
      "source": [
        "def height_in_float(height):\n",
        "    # Handle missing or invalid height formats\n",
        "    if isinstance(height, str) and '-' in height:  # Check if the height is a string with a hyphen\n",
        "        feet, inches = map(int, height.split('-'))\n",
        "        return feet + inches / 12\n",
        "    # Attempt to convert height to float if it is not already a float\n",
        "    elif isinstance(height, str):\n",
        "        try:\n",
        "            return float(height)  # Converts height to float if possible\n",
        "        except ValueError:\n",
        "            return float('nan')  # Returns NaN for invalid float conversions\n",
        "    else:\n",
        "        return height  # Return the original value if it cannot be converted\n",
        "\n",
        "df['New_Height'] = df['Height'].apply(height_in_float)\n",
        "df"
      ],
      "metadata": {
        "id": "5iwJ6B1BKt3B",
        "colab": {
          "base_uri": "https://localhost:8080/",
          "height": 423
        },
        "outputId": "12fa9df9-3fdb-4acc-9eea-6530ea3c60b1"
      },
      "execution_count": 25,
      "outputs": [
        {
          "output_type": "execute_result",
          "data": {
            "text/plain": [
              "              Name                Team  Number Position   Age Height  Weight  \\\n",
              "1      Jae Crowder      Boston Celtics    99.0       SF  25.0    6-6   235.0   \n",
              "2     John Holland      Boston Celtics    30.0       SG  27.0    6-5   205.0   \n",
              "3      R.J. Hunter      Boston Celtics    28.0       SG  22.0    6-5   185.0   \n",
              "4    Jonas Jerebko      Boston Celtics     8.0       PF  29.0   6-10   231.0   \n",
              "5     Amir Johnson      Boston Celtics    90.0       PF  29.0    6-9   240.0   \n",
              "..             ...                 ...     ...      ...   ...    ...     ...   \n",
              "454      Raul Neto           Utah Jazz    25.0       PG  24.0    6-1   179.0   \n",
              "455   Tibor Pleiss           Utah Jazz    21.0        C  26.0    7-3   256.0   \n",
              "456    Jeff Withey           Utah Jazz    24.0        C  26.0    7-0   231.0   \n",
              "457            NaN                 NaN     NaN      NaN   NaN    NaN     NaN   \n",
              "458       John Doe  Los Angeles Lakers     NaN    Guard  25.0   6'3\"   190.0   \n",
              "\n",
              "           Salary  Experience  Height_inches  New_Height  \n",
              "1    6.796117e+06      1999.0       6.500000    6.500000  \n",
              "2    4.836195e+06      1997.0       6.416667    6.416667  \n",
              "3    1.148640e+06      2002.0       6.416667    6.416667  \n",
              "4    5.000000e+06      1995.0       6.833333    6.833333  \n",
              "5    1.200000e+07      1995.0       6.750000    6.750000  \n",
              "..            ...         ...            ...         ...  \n",
              "454  9.000000e+05      2000.0       6.083333    6.083333  \n",
              "455  2.900000e+06      1998.0       7.250000    7.250000  \n",
              "456  9.472760e+05      1998.0       7.000000    7.000000  \n",
              "457  4.836195e+06         NaN            NaN         NaN  \n",
              "458  4.836195e+06      1999.0            NaN         NaN  \n",
              "\n",
              "[458 rows x 11 columns]"
            ],
            "text/html": [
              "\n",
              "  <div id=\"df-2282808c-f7b8-48fa-90bf-91df38b8e4a0\" class=\"colab-df-container\">\n",
              "    <div>\n",
              "<style scoped>\n",
              "    .dataframe tbody tr th:only-of-type {\n",
              "        vertical-align: middle;\n",
              "    }\n",
              "\n",
              "    .dataframe tbody tr th {\n",
              "        vertical-align: top;\n",
              "    }\n",
              "\n",
              "    .dataframe thead th {\n",
              "        text-align: right;\n",
              "    }\n",
              "</style>\n",
              "<table border=\"1\" class=\"dataframe\">\n",
              "  <thead>\n",
              "    <tr style=\"text-align: right;\">\n",
              "      <th></th>\n",
              "      <th>Name</th>\n",
              "      <th>Team</th>\n",
              "      <th>Number</th>\n",
              "      <th>Position</th>\n",
              "      <th>Age</th>\n",
              "      <th>Height</th>\n",
              "      <th>Weight</th>\n",
              "      <th>Salary</th>\n",
              "      <th>Experience</th>\n",
              "      <th>Height_inches</th>\n",
              "      <th>New_Height</th>\n",
              "    </tr>\n",
              "  </thead>\n",
              "  <tbody>\n",
              "    <tr>\n",
              "      <th>1</th>\n",
              "      <td>Jae Crowder</td>\n",
              "      <td>Boston Celtics</td>\n",
              "      <td>99.0</td>\n",
              "      <td>SF</td>\n",
              "      <td>25.0</td>\n",
              "      <td>6-6</td>\n",
              "      <td>235.0</td>\n",
              "      <td>6.796117e+06</td>\n",
              "      <td>1999.0</td>\n",
              "      <td>6.500000</td>\n",
              "      <td>6.500000</td>\n",
              "    </tr>\n",
              "    <tr>\n",
              "      <th>2</th>\n",
              "      <td>John Holland</td>\n",
              "      <td>Boston Celtics</td>\n",
              "      <td>30.0</td>\n",
              "      <td>SG</td>\n",
              "      <td>27.0</td>\n",
              "      <td>6-5</td>\n",
              "      <td>205.0</td>\n",
              "      <td>4.836195e+06</td>\n",
              "      <td>1997.0</td>\n",
              "      <td>6.416667</td>\n",
              "      <td>6.416667</td>\n",
              "    </tr>\n",
              "    <tr>\n",
              "      <th>3</th>\n",
              "      <td>R.J. Hunter</td>\n",
              "      <td>Boston Celtics</td>\n",
              "      <td>28.0</td>\n",
              "      <td>SG</td>\n",
              "      <td>22.0</td>\n",
              "      <td>6-5</td>\n",
              "      <td>185.0</td>\n",
              "      <td>1.148640e+06</td>\n",
              "      <td>2002.0</td>\n",
              "      <td>6.416667</td>\n",
              "      <td>6.416667</td>\n",
              "    </tr>\n",
              "    <tr>\n",
              "      <th>4</th>\n",
              "      <td>Jonas Jerebko</td>\n",
              "      <td>Boston Celtics</td>\n",
              "      <td>8.0</td>\n",
              "      <td>PF</td>\n",
              "      <td>29.0</td>\n",
              "      <td>6-10</td>\n",
              "      <td>231.0</td>\n",
              "      <td>5.000000e+06</td>\n",
              "      <td>1995.0</td>\n",
              "      <td>6.833333</td>\n",
              "      <td>6.833333</td>\n",
              "    </tr>\n",
              "    <tr>\n",
              "      <th>5</th>\n",
              "      <td>Amir Johnson</td>\n",
              "      <td>Boston Celtics</td>\n",
              "      <td>90.0</td>\n",
              "      <td>PF</td>\n",
              "      <td>29.0</td>\n",
              "      <td>6-9</td>\n",
              "      <td>240.0</td>\n",
              "      <td>1.200000e+07</td>\n",
              "      <td>1995.0</td>\n",
              "      <td>6.750000</td>\n",
              "      <td>6.750000</td>\n",
              "    </tr>\n",
              "    <tr>\n",
              "      <th>...</th>\n",
              "      <td>...</td>\n",
              "      <td>...</td>\n",
              "      <td>...</td>\n",
              "      <td>...</td>\n",
              "      <td>...</td>\n",
              "      <td>...</td>\n",
              "      <td>...</td>\n",
              "      <td>...</td>\n",
              "      <td>...</td>\n",
              "      <td>...</td>\n",
              "      <td>...</td>\n",
              "    </tr>\n",
              "    <tr>\n",
              "      <th>454</th>\n",
              "      <td>Raul Neto</td>\n",
              "      <td>Utah Jazz</td>\n",
              "      <td>25.0</td>\n",
              "      <td>PG</td>\n",
              "      <td>24.0</td>\n",
              "      <td>6-1</td>\n",
              "      <td>179.0</td>\n",
              "      <td>9.000000e+05</td>\n",
              "      <td>2000.0</td>\n",
              "      <td>6.083333</td>\n",
              "      <td>6.083333</td>\n",
              "    </tr>\n",
              "    <tr>\n",
              "      <th>455</th>\n",
              "      <td>Tibor Pleiss</td>\n",
              "      <td>Utah Jazz</td>\n",
              "      <td>21.0</td>\n",
              "      <td>C</td>\n",
              "      <td>26.0</td>\n",
              "      <td>7-3</td>\n",
              "      <td>256.0</td>\n",
              "      <td>2.900000e+06</td>\n",
              "      <td>1998.0</td>\n",
              "      <td>7.250000</td>\n",
              "      <td>7.250000</td>\n",
              "    </tr>\n",
              "    <tr>\n",
              "      <th>456</th>\n",
              "      <td>Jeff Withey</td>\n",
              "      <td>Utah Jazz</td>\n",
              "      <td>24.0</td>\n",
              "      <td>C</td>\n",
              "      <td>26.0</td>\n",
              "      <td>7-0</td>\n",
              "      <td>231.0</td>\n",
              "      <td>9.472760e+05</td>\n",
              "      <td>1998.0</td>\n",
              "      <td>7.000000</td>\n",
              "      <td>7.000000</td>\n",
              "    </tr>\n",
              "    <tr>\n",
              "      <th>457</th>\n",
              "      <td>NaN</td>\n",
              "      <td>NaN</td>\n",
              "      <td>NaN</td>\n",
              "      <td>NaN</td>\n",
              "      <td>NaN</td>\n",
              "      <td>NaN</td>\n",
              "      <td>NaN</td>\n",
              "      <td>4.836195e+06</td>\n",
              "      <td>NaN</td>\n",
              "      <td>NaN</td>\n",
              "      <td>NaN</td>\n",
              "    </tr>\n",
              "    <tr>\n",
              "      <th>458</th>\n",
              "      <td>John Doe</td>\n",
              "      <td>Los Angeles Lakers</td>\n",
              "      <td>NaN</td>\n",
              "      <td>Guard</td>\n",
              "      <td>25.0</td>\n",
              "      <td>6'3\"</td>\n",
              "      <td>190.0</td>\n",
              "      <td>4.836195e+06</td>\n",
              "      <td>1999.0</td>\n",
              "      <td>NaN</td>\n",
              "      <td>NaN</td>\n",
              "    </tr>\n",
              "  </tbody>\n",
              "</table>\n",
              "<p>458 rows × 11 columns</p>\n",
              "</div>\n",
              "    <div class=\"colab-df-buttons\">\n",
              "\n",
              "  <div class=\"colab-df-container\">\n",
              "    <button class=\"colab-df-convert\" onclick=\"convertToInteractive('df-2282808c-f7b8-48fa-90bf-91df38b8e4a0')\"\n",
              "            title=\"Convert this dataframe to an interactive table.\"\n",
              "            style=\"display:none;\">\n",
              "\n",
              "  <svg xmlns=\"http://www.w3.org/2000/svg\" height=\"24px\" viewBox=\"0 -960 960 960\">\n",
              "    <path d=\"M120-120v-720h720v720H120Zm60-500h600v-160H180v160Zm220 220h160v-160H400v160Zm0 220h160v-160H400v160ZM180-400h160v-160H180v160Zm440 0h160v-160H620v160ZM180-180h160v-160H180v160Zm440 0h160v-160H620v160Z\"/>\n",
              "  </svg>\n",
              "    </button>\n",
              "\n",
              "  <style>\n",
              "    .colab-df-container {\n",
              "      display:flex;\n",
              "      gap: 12px;\n",
              "    }\n",
              "\n",
              "    .colab-df-convert {\n",
              "      background-color: #E8F0FE;\n",
              "      border: none;\n",
              "      border-radius: 50%;\n",
              "      cursor: pointer;\n",
              "      display: none;\n",
              "      fill: #1967D2;\n",
              "      height: 32px;\n",
              "      padding: 0 0 0 0;\n",
              "      width: 32px;\n",
              "    }\n",
              "\n",
              "    .colab-df-convert:hover {\n",
              "      background-color: #E2EBFA;\n",
              "      box-shadow: 0px 1px 2px rgba(60, 64, 67, 0.3), 0px 1px 3px 1px rgba(60, 64, 67, 0.15);\n",
              "      fill: #174EA6;\n",
              "    }\n",
              "\n",
              "    .colab-df-buttons div {\n",
              "      margin-bottom: 4px;\n",
              "    }\n",
              "\n",
              "    [theme=dark] .colab-df-convert {\n",
              "      background-color: #3B4455;\n",
              "      fill: #D2E3FC;\n",
              "    }\n",
              "\n",
              "    [theme=dark] .colab-df-convert:hover {\n",
              "      background-color: #434B5C;\n",
              "      box-shadow: 0px 1px 3px 1px rgba(0, 0, 0, 0.15);\n",
              "      filter: drop-shadow(0px 1px 2px rgba(0, 0, 0, 0.3));\n",
              "      fill: #FFFFFF;\n",
              "    }\n",
              "  </style>\n",
              "\n",
              "    <script>\n",
              "      const buttonEl =\n",
              "        document.querySelector('#df-2282808c-f7b8-48fa-90bf-91df38b8e4a0 button.colab-df-convert');\n",
              "      buttonEl.style.display =\n",
              "        google.colab.kernel.accessAllowed ? 'block' : 'none';\n",
              "\n",
              "      async function convertToInteractive(key) {\n",
              "        const element = document.querySelector('#df-2282808c-f7b8-48fa-90bf-91df38b8e4a0');\n",
              "        const dataTable =\n",
              "          await google.colab.kernel.invokeFunction('convertToInteractive',\n",
              "                                                    [key], {});\n",
              "        if (!dataTable) return;\n",
              "\n",
              "        const docLinkHtml = 'Like what you see? Visit the ' +\n",
              "          '<a target=\"_blank\" href=https://colab.research.google.com/notebooks/data_table.ipynb>data table notebook</a>'\n",
              "          + ' to learn more about interactive tables.';\n",
              "        element.innerHTML = '';\n",
              "        dataTable['output_type'] = 'display_data';\n",
              "        await google.colab.output.renderOutput(dataTable, element);\n",
              "        const docLink = document.createElement('div');\n",
              "        docLink.innerHTML = docLinkHtml;\n",
              "        element.appendChild(docLink);\n",
              "      }\n",
              "    </script>\n",
              "  </div>\n",
              "\n",
              "\n",
              "<div id=\"df-1032d4e9-d265-4560-83a1-786d5396ba85\">\n",
              "  <button class=\"colab-df-quickchart\" onclick=\"quickchart('df-1032d4e9-d265-4560-83a1-786d5396ba85')\"\n",
              "            title=\"Suggest charts\"\n",
              "            style=\"display:none;\">\n",
              "\n",
              "<svg xmlns=\"http://www.w3.org/2000/svg\" height=\"24px\"viewBox=\"0 0 24 24\"\n",
              "     width=\"24px\">\n",
              "    <g>\n",
              "        <path d=\"M19 3H5c-1.1 0-2 .9-2 2v14c0 1.1.9 2 2 2h14c1.1 0 2-.9 2-2V5c0-1.1-.9-2-2-2zM9 17H7v-7h2v7zm4 0h-2V7h2v10zm4 0h-2v-4h2v4z\"/>\n",
              "    </g>\n",
              "</svg>\n",
              "  </button>\n",
              "\n",
              "<style>\n",
              "  .colab-df-quickchart {\n",
              "      --bg-color: #E8F0FE;\n",
              "      --fill-color: #1967D2;\n",
              "      --hover-bg-color: #E2EBFA;\n",
              "      --hover-fill-color: #174EA6;\n",
              "      --disabled-fill-color: #AAA;\n",
              "      --disabled-bg-color: #DDD;\n",
              "  }\n",
              "\n",
              "  [theme=dark] .colab-df-quickchart {\n",
              "      --bg-color: #3B4455;\n",
              "      --fill-color: #D2E3FC;\n",
              "      --hover-bg-color: #434B5C;\n",
              "      --hover-fill-color: #FFFFFF;\n",
              "      --disabled-bg-color: #3B4455;\n",
              "      --disabled-fill-color: #666;\n",
              "  }\n",
              "\n",
              "  .colab-df-quickchart {\n",
              "    background-color: var(--bg-color);\n",
              "    border: none;\n",
              "    border-radius: 50%;\n",
              "    cursor: pointer;\n",
              "    display: none;\n",
              "    fill: var(--fill-color);\n",
              "    height: 32px;\n",
              "    padding: 0;\n",
              "    width: 32px;\n",
              "  }\n",
              "\n",
              "  .colab-df-quickchart:hover {\n",
              "    background-color: var(--hover-bg-color);\n",
              "    box-shadow: 0 1px 2px rgba(60, 64, 67, 0.3), 0 1px 3px 1px rgba(60, 64, 67, 0.15);\n",
              "    fill: var(--button-hover-fill-color);\n",
              "  }\n",
              "\n",
              "  .colab-df-quickchart-complete:disabled,\n",
              "  .colab-df-quickchart-complete:disabled:hover {\n",
              "    background-color: var(--disabled-bg-color);\n",
              "    fill: var(--disabled-fill-color);\n",
              "    box-shadow: none;\n",
              "  }\n",
              "\n",
              "  .colab-df-spinner {\n",
              "    border: 2px solid var(--fill-color);\n",
              "    border-color: transparent;\n",
              "    border-bottom-color: var(--fill-color);\n",
              "    animation:\n",
              "      spin 1s steps(1) infinite;\n",
              "  }\n",
              "\n",
              "  @keyframes spin {\n",
              "    0% {\n",
              "      border-color: transparent;\n",
              "      border-bottom-color: var(--fill-color);\n",
              "      border-left-color: var(--fill-color);\n",
              "    }\n",
              "    20% {\n",
              "      border-color: transparent;\n",
              "      border-left-color: var(--fill-color);\n",
              "      border-top-color: var(--fill-color);\n",
              "    }\n",
              "    30% {\n",
              "      border-color: transparent;\n",
              "      border-left-color: var(--fill-color);\n",
              "      border-top-color: var(--fill-color);\n",
              "      border-right-color: var(--fill-color);\n",
              "    }\n",
              "    40% {\n",
              "      border-color: transparent;\n",
              "      border-right-color: var(--fill-color);\n",
              "      border-top-color: var(--fill-color);\n",
              "    }\n",
              "    60% {\n",
              "      border-color: transparent;\n",
              "      border-right-color: var(--fill-color);\n",
              "    }\n",
              "    80% {\n",
              "      border-color: transparent;\n",
              "      border-right-color: var(--fill-color);\n",
              "      border-bottom-color: var(--fill-color);\n",
              "    }\n",
              "    90% {\n",
              "      border-color: transparent;\n",
              "      border-bottom-color: var(--fill-color);\n",
              "    }\n",
              "  }\n",
              "</style>\n",
              "\n",
              "  <script>\n",
              "    async function quickchart(key) {\n",
              "      const quickchartButtonEl =\n",
              "        document.querySelector('#' + key + ' button');\n",
              "      quickchartButtonEl.disabled = true;  // To prevent multiple clicks.\n",
              "      quickchartButtonEl.classList.add('colab-df-spinner');\n",
              "      try {\n",
              "        const charts = await google.colab.kernel.invokeFunction(\n",
              "            'suggestCharts', [key], {});\n",
              "      } catch (error) {\n",
              "        console.error('Error during call to suggestCharts:', error);\n",
              "      }\n",
              "      quickchartButtonEl.classList.remove('colab-df-spinner');\n",
              "      quickchartButtonEl.classList.add('colab-df-quickchart-complete');\n",
              "    }\n",
              "    (() => {\n",
              "      let quickchartButtonEl =\n",
              "        document.querySelector('#df-1032d4e9-d265-4560-83a1-786d5396ba85 button');\n",
              "      quickchartButtonEl.style.display =\n",
              "        google.colab.kernel.accessAllowed ? 'block' : 'none';\n",
              "    })();\n",
              "  </script>\n",
              "</div>\n",
              "\n",
              "  <div id=\"id_3718726c-8127-4720-a954-879627a1895f\">\n",
              "    <style>\n",
              "      .colab-df-generate {\n",
              "        background-color: #E8F0FE;\n",
              "        border: none;\n",
              "        border-radius: 50%;\n",
              "        cursor: pointer;\n",
              "        display: none;\n",
              "        fill: #1967D2;\n",
              "        height: 32px;\n",
              "        padding: 0 0 0 0;\n",
              "        width: 32px;\n",
              "      }\n",
              "\n",
              "      .colab-df-generate:hover {\n",
              "        background-color: #E2EBFA;\n",
              "        box-shadow: 0px 1px 2px rgba(60, 64, 67, 0.3), 0px 1px 3px 1px rgba(60, 64, 67, 0.15);\n",
              "        fill: #174EA6;\n",
              "      }\n",
              "\n",
              "      [theme=dark] .colab-df-generate {\n",
              "        background-color: #3B4455;\n",
              "        fill: #D2E3FC;\n",
              "      }\n",
              "\n",
              "      [theme=dark] .colab-df-generate:hover {\n",
              "        background-color: #434B5C;\n",
              "        box-shadow: 0px 1px 3px 1px rgba(0, 0, 0, 0.15);\n",
              "        filter: drop-shadow(0px 1px 2px rgba(0, 0, 0, 0.3));\n",
              "        fill: #FFFFFF;\n",
              "      }\n",
              "    </style>\n",
              "    <button class=\"colab-df-generate\" onclick=\"generateWithVariable('df')\"\n",
              "            title=\"Generate code using this dataframe.\"\n",
              "            style=\"display:none;\">\n",
              "\n",
              "  <svg xmlns=\"http://www.w3.org/2000/svg\" height=\"24px\"viewBox=\"0 0 24 24\"\n",
              "       width=\"24px\">\n",
              "    <path d=\"M7,19H8.4L18.45,9,17,7.55,7,17.6ZM5,21V16.75L18.45,3.32a2,2,0,0,1,2.83,0l1.4,1.43a1.91,1.91,0,0,1,.58,1.4,1.91,1.91,0,0,1-.58,1.4L9.25,21ZM18.45,9,17,7.55Zm-12,3A5.31,5.31,0,0,0,4.9,8.1,5.31,5.31,0,0,0,1,6.5,5.31,5.31,0,0,0,4.9,4.9,5.31,5.31,0,0,0,6.5,1,5.31,5.31,0,0,0,8.1,4.9,5.31,5.31,0,0,0,12,6.5,5.46,5.46,0,0,0,6.5,12Z\"/>\n",
              "  </svg>\n",
              "    </button>\n",
              "    <script>\n",
              "      (() => {\n",
              "      const buttonEl =\n",
              "        document.querySelector('#id_3718726c-8127-4720-a954-879627a1895f button.colab-df-generate');\n",
              "      buttonEl.style.display =\n",
              "        google.colab.kernel.accessAllowed ? 'block' : 'none';\n",
              "\n",
              "      buttonEl.onclick = () => {\n",
              "        google.colab.notebook.generateWithVariable('df');\n",
              "      }\n",
              "      })();\n",
              "    </script>\n",
              "  </div>\n",
              "\n",
              "    </div>\n",
              "  </div>\n"
            ],
            "application/vnd.google.colaboratory.intrinsic+json": {
              "type": "dataframe",
              "variable_name": "df",
              "summary": "{\n  \"name\": \"df\",\n  \"rows\": 458,\n  \"fields\": [\n    {\n      \"column\": \"Name\",\n      \"properties\": {\n        \"dtype\": \"string\",\n        \"num_unique_values\": 457,\n        \"samples\": [\n          \"Patty Mills\",\n          \"Kristaps Porzingis\",\n          \"Gerald Green\"\n        ],\n        \"semantic_type\": \"\",\n        \"description\": \"\"\n      }\n    },\n    {\n      \"column\": \"Team\",\n      \"properties\": {\n        \"dtype\": \"category\",\n        \"num_unique_values\": 30,\n        \"samples\": [\n          \"Oklahoma City Thunder\",\n          \"Dallas Mavericks\",\n          \"Orlando Magic\"\n        ],\n        \"semantic_type\": \"\",\n        \"description\": \"\"\n      }\n    },\n    {\n      \"column\": \"Number\",\n      \"properties\": {\n        \"dtype\": \"number\",\n        \"std\": 15.962077764098794,\n        \"min\": 0.0,\n        \"max\": 99.0,\n        \"num_unique_values\": 53,\n        \"samples\": [\n          6.0,\n          34.0,\n          26.0\n        ],\n        \"semantic_type\": \"\",\n        \"description\": \"\"\n      }\n    },\n    {\n      \"column\": \"Position\",\n      \"properties\": {\n        \"dtype\": \"category\",\n        \"num_unique_values\": 6,\n        \"samples\": [\n          \"SF\",\n          \"SG\",\n          \"Guard\"\n        ],\n        \"semantic_type\": \"\",\n        \"description\": \"\"\n      }\n    },\n    {\n      \"column\": \"Age\",\n      \"properties\": {\n        \"dtype\": \"number\",\n        \"std\": 4.4040164244058335,\n        \"min\": 19.0,\n        \"max\": 40.0,\n        \"num_unique_values\": 22,\n        \"samples\": [\n          25.0,\n          34.0,\n          28.0\n        ],\n        \"semantic_type\": \"\",\n        \"description\": \"\"\n      }\n    },\n    {\n      \"column\": \"Height\",\n      \"properties\": {\n        \"dtype\": \"category\",\n        \"num_unique_values\": 19,\n        \"samples\": [\n          \"6-6\",\n          \"7-0\",\n          \"5-11\"\n        ],\n        \"semantic_type\": \"\",\n        \"description\": \"\"\n      }\n    },\n    {\n      \"column\": \"Weight\",\n      \"properties\": {\n        \"dtype\": \"number\",\n        \"std\": 26.337940847847726,\n        \"min\": 161.0,\n        \"max\": 307.0,\n        \"num_unique_values\": 87,\n        \"samples\": [\n          169.0,\n          235.0,\n          201.0\n        ],\n        \"semantic_type\": \"\",\n        \"description\": \"\"\n      }\n    },\n    {\n      \"column\": \"Salary\",\n      \"properties\": {\n        \"dtype\": \"number\",\n        \"std\": 5158353.411559541,\n        \"min\": 30888.0,\n        \"max\": 25000000.0,\n        \"num_unique_values\": 309,\n        \"samples\": [\n          625093.0,\n          2569260.0,\n          245177.0\n        ],\n        \"semantic_type\": \"\",\n        \"description\": \"\"\n      }\n    },\n    {\n      \"column\": \"Experience\",\n      \"properties\": {\n        \"dtype\": \"number\",\n        \"std\": 4.4040164244058335,\n        \"min\": 1984.0,\n        \"max\": 2005.0,\n        \"num_unique_values\": 22,\n        \"samples\": [\n          1999.0,\n          1990.0,\n          1996.0\n        ],\n        \"semantic_type\": \"\",\n        \"description\": \"\"\n      }\n    },\n    {\n      \"column\": \"Height_inches\",\n      \"properties\": {\n        \"dtype\": \"number\",\n        \"std\": 0.2856305973872297,\n        \"min\": 5.75,\n        \"max\": 7.25,\n        \"num_unique_values\": 18,\n        \"samples\": [\n          6.5,\n          6.416666666666667,\n          5.75\n        ],\n        \"semantic_type\": \"\",\n        \"description\": \"\"\n      }\n    },\n    {\n      \"column\": \"New_Height\",\n      \"properties\": {\n        \"dtype\": \"number\",\n        \"std\": 0.2856305973872297,\n        \"min\": 5.75,\n        \"max\": 7.25,\n        \"num_unique_values\": 18,\n        \"samples\": [\n          6.5,\n          6.416666666666667,\n          5.75\n        ],\n        \"semantic_type\": \"\",\n        \"description\": \"\"\n      }\n    }\n  ]\n}"
            }
          },
          "metadata": {},
          "execution_count": 25
        }
      ]
    }
  ]
}